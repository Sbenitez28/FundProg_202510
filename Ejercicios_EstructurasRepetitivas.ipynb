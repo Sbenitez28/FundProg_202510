{
  "cells": [
    {
      "cell_type": "markdown",
      "metadata": {
        "id": "view-in-github",
        "colab_type": "text"
      },
      "source": [
        "<a href=\"https://colab.research.google.com/github/Sbenitez28/FundProg_202510/blob/main/Ejercicios_EstructurasRepetitivas.ipynb\" target=\"_parent\"><img src=\"https://colab.research.google.com/assets/colab-badge.svg\" alt=\"Open In Colab\"/></a>"
      ]
    },
    {
      "cell_type": "markdown",
      "source": [
        "#Ejercicios Estructuras Repetitivas\n",
        "\n",
        "**Integrantes:**\n",
        "<br> **Nombre:** Juan Sebastián Miranda Almanza\n",
        "<br> **ID:** 000548569"
      ],
      "metadata": {
        "id": "sMHHrdscgf8J"
      }
    },
    {
      "cell_type": "markdown",
      "source": [
        "##9. Centavos por Pago\n",
        "Diseña un programa que calcule la cantidad de dinero que una persona ganaría durante un período de tiempo si su salario es de un centavo el primer día, dos centavos el segundo día, y se duplica cada día. El programa debe pedir al usuario el número de días. Muestra una tabla que muestre cuál fue el salario por cada día y luego muestra el pago total al final del período. El total debe mostrarse en dólares, no en número de centavos.\n",
        "```\n",
        "Program Centavos_pago\n",
        "Start\n",
        "   Declare days_worked As Integer\n",
        "   Declare salary, total_salary As Real\n",
        "   Declare day As Integer\n",
        "   Display \"Ingrese el número de días trabajados: \"\n",
        "   Input days_worked\n",
        "   Set salary <- 0.01\n",
        "   Set total_salary <- 0\n",
        "   Display \"Día | Salario del día\"\n",
        "   For day = 1 To days_worked\n",
        "      Display day, \"   | $\", salary\n",
        "      total_salary <- total_salary + salary\n",
        "      salary <- salary * 2\n",
        "   End For\n",
        "   Display \"Salario total acumulado: $\", total_salary\n",
        "End\n",
        "```"
      ],
      "metadata": {
        "id": "SMzwjxnJgo4D"
      }
    },
    {
      "cell_type": "code",
      "source": [
        "dias = int(input(\"Ingrese el número de días: \"))\n",
        "\n",
        "pago_diario = 0.01  # Dia 1\n",
        "total = 0.0\n",
        "\n",
        "print(\"Día | Salario (USD)\")\n",
        "print(\"------------------\")\n",
        "\n",
        "for dia in range(1, dias + 1) :\n",
        "    print(dia, pago_diario)\n",
        "    total += pago_diario\n",
        "    pago_diario *= 2  # Se duplica cada dia que pasa\n",
        "print(\"\\n------------------\")\n",
        "print(\"Salario total:\")\n",
        "print(\"$\", total)"
      ],
      "metadata": {
        "colab": {
          "base_uri": "https://localhost:8080/"
        },
        "id": "5dAvG_ElhCEU",
        "outputId": "bee089f6-1c50-4f81-e743-c0fd233a6aaf"
      },
      "execution_count": null,
      "outputs": [
        {
          "output_type": "stream",
          "name": "stdout",
          "text": [
            "Ingrese el número de días: 11\n",
            "Día | Salario (USD)\n",
            "------------------\n",
            "1 0.01\n",
            "2 0.02\n",
            "3 0.04\n",
            "4 0.08\n",
            "5 0.16\n",
            "6 0.32\n",
            "7 0.64\n",
            "8 1.28\n",
            "9 2.56\n",
            "10 5.12\n",
            "11 10.24\n",
            "\n",
            "------------------\n",
            "Salario total:\n",
            "$ 20.47\n"
          ]
        }
      ]
    },
    {
      "cell_type": "markdown",
      "source": [],
      "metadata": {
        "id": "p8zZU3vugT6I"
      }
    },
    {
      "cell_type": "markdown",
      "source": [
        "##10. Mayor y Menor\n",
        "Diseña un programa con un ciclo que permita al usuario ingresar una serie de números. El usuario debe ingresar -99 para señalar el fin de la serie. Después de que se hayan ingresado todos los números, el programa debe mostrar el número más grande y el número más pequeño que se ingresaron.\n",
        "\n",
        "```\n",
        "Program Mayor_menor\n",
        "Start\n",
        "    Declare Real numero\n",
        "    Declare Real mayor = -Infinito\n",
        "    Declare Real menor = Infinito\n",
        "\n",
        "    Display \"Ingrese números (-99 para terminar):\"\n",
        "    Input numero\n",
        "\n",
        "    While (numero != -99) Do\n",
        "        If (numero > mayor) Then\n",
        "            Set mayor = numero\n",
        "        End If\n",
        "\n",
        "        If (numero < menor) Then\n",
        "            Set menor = numero\n",
        "        End If\n",
        "\n",
        "        Input numero\n",
        "    End While\n",
        "\n",
        "    If (mayor != -Infinito) Then\n",
        "        Display \"Número mayor:\", mayor\n",
        "        Display \"Número menor:\", menor\n",
        "    Else\n",
        "        Display \"No se ingresaron números válidos\"\n",
        "    End If\n",
        "End\n",
        "```"
      ],
      "metadata": {
        "id": "JfOk1h6lwYMt"
      }
    },
    {
      "cell_type": "code",
      "source": [
        "mayor = float('-inf')\n",
        "menor = float('inf')\n",
        "\n",
        "numero = float(input(\"Ingrese numeros ( introduce -99 para terminar): \"))\n",
        "\n",
        "while numero != -99:\n",
        "    if numero > mayor:\n",
        "        mayor = numero\n",
        "    if numero < menor:\n",
        "        menor = numero\n",
        "    numero = float(input(\"\"))\n",
        "\n",
        "if mayor != float('-inf'):\n",
        "    print(\"Número mayor:\", mayor)\n",
        "    print(\"Número menor:\", menor)\n",
        "else:\n",
        "    print(\"No se ingresaron números válidos\")"
      ],
      "metadata": {
        "id": "kt3ceiGaw1dX",
        "colab": {
          "base_uri": "https://localhost:8080/"
        },
        "outputId": "382e6f48-44e0-4a7e-8733-66127347c4be"
      },
      "execution_count": 11,
      "outputs": [
        {
          "output_type": "stream",
          "name": "stdout",
          "text": [
            "Ingrese numeros ( introduce -99 para terminar): 45\n",
            "44\n",
            "151\n",
            "98\n",
            "-45\n",
            "-458\n",
            "-99\n",
            "Número mayor: 151.0\n",
            "Número menor: -458.0\n"
          ]
        }
      ]
    },
    {
      "cell_type": "markdown",
      "source": [
        "##11. Primero y Último\n",
        "Diseña un programa que pida al usuario una serie de nombres (en cualquier orden). Después de que se haya ingresado el último nombre, el programa debe mostrar el nombre que está primero alfabéticamente y el nombre que está último alfabéticamente. Por ejemplo, si el usuario ingresa los nombres Kristin, Joel, Adam, Beth, Zeb, y Chris, el programa debería mostrar Adam y Zeb.\n",
        "\n",
        "```\n",
        "Program Nombres\n",
        "Start\n",
        "Declare string[] nombres\n",
        "Declare int nam\n",
        "\n",
        "Display \"ingrese nombres\"\n",
        "input nam\n",
        "\n",
        "Display \"Ingrese una lista de nombres\"\n",
        "input list_nombres\n",
        "\n",
        "list_nombres.sort()\n",
        "\n",
        "display(\"primer nombre\",list_nombres[0])\n",
        "display(\"ultimo nombre\",list_nombres[-1])\n",
        "\n",
        "\n",
        "End\n",
        "```"
      ],
      "metadata": {
        "id": "EVNel92lxWnD"
      }
    },
    {
      "cell_type": "code",
      "source": [
        "Cant_nombres = int(input(\"Ingrese la cantidad de nombres: \"))\n",
        "list_nombres = []\n",
        "for nombre in range(Cant_nombres):\n",
        " nombre = str(input(\"Ingrese el nombre: \"))\n",
        " list_nombres.append(nombre)\n",
        "list_nombres.sort()\n",
        "print(\"Primer nombre\",list_nombres[0])\n",
        "print(\"Ultimo nombre\",list_nombres[-1])"
      ],
      "metadata": {
        "colab": {
          "base_uri": "https://localhost:8080/"
        },
        "id": "Z0Sirv-H-W7Y",
        "outputId": "157c015b-4fc9-4809-e3b9-993e20de6729"
      },
      "execution_count": 25,
      "outputs": [
        {
          "output_type": "stream",
          "name": "stdout",
          "text": [
            "Ingrese la cantidad de nombres: 3\n",
            "Ingrese el nombre: sebas\n",
            "Ingrese el nombre: natalia\n",
            "Ingrese el nombre: mario\n",
            "Primer nombre mario\n",
            "Ultimo nombre sebas\n"
          ]
        }
      ]
    }
  ],
  "metadata": {
    "colab": {
      "provenance": [],
      "include_colab_link": true
    },
    "kernelspec": {
      "display_name": "Python 3",
      "name": "python3"
    }
  },
  "nbformat": 4,
  "nbformat_minor": 0
}