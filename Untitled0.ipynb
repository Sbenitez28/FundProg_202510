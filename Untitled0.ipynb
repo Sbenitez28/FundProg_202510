{
  "nbformat": 4,
  "nbformat_minor": 0,
  "metadata": {
    "colab": {
      "provenance": [],
      "authorship_tag": "ABX9TyMuC71AOA3/SVG/z1zYS5ta",
      "include_colab_link": true
    },
    "kernelspec": {
      "name": "python3",
      "display_name": "Python 3"
    },
    "language_info": {
      "name": "python"
    }
  },
  "cells": [
    {
      "cell_type": "markdown",
      "metadata": {
        "id": "view-in-github",
        "colab_type": "text"
      },
      "source": [
        "<a href=\"https://colab.research.google.com/github/Sbenitez28/FundProg_202510/blob/main/Untitled0.ipynb\" target=\"_parent\"><img src=\"https://colab.research.google.com/assets/colab-badge.svg\" alt=\"Open In Colab\"/></a>"
      ]
    },
    {
      "cell_type": "code",
      "source": [],
      "metadata": {
        "id": "_-xmgQtd5C08"
      },
      "execution_count": null,
      "outputs": []
    },
    {
      "cell_type": "markdown",
      "source": [
        "# Tareas Pseudocódigo\n",
        "<br> **Nombres:** Sebastián Benitez Burgos\n",
        "<br> **ID:** 000545006\n",
        "<br> **Email:** sebastian.benitez@upb.edu.co\n",
        "\n",
        "#Primer problema\n",
        "Calcular las resistencias equivalentes\n",
        "\n",
        "<br>**Tarea:** Calcular la resistencia equivalente de 𝑛 resistencias en paralelo.\n",
        "Descripción: Desarrolla un algoritmo que tome como entrada un valor 𝑛 que indica el número de\n",
        "resistencias en paralelo, el valor de cada una de ellas en ohmios, y calcule la resistencia equivalente. Tenga en cuenta que (1/Req) = (1/R1) + (1/R2) + ... + (1/Rn).\n",
        "\n",
        "<br>**Resultado:** La resistencia equivalente en ohmios.\n",
        "<br>**Entradas:** Un valor 𝑛 y 𝑛 valores de resistencia en ohmios.\n",
        "<br>**Ejemplo:** Entrada: 3, 100, 200, 300; **Salida esperada:** 54.54 (ohmios).\n",
        "\n",
        "<br> **Algoritmo**\n",
        "1. Declarar las variables.\n",
        "2. Pedir al usuario que ingrese la primera resistencia en ohmios.\n",
        "3. Pedir al usuario que ingrese la segunda resistencia en ohmios.\n",
        "4. Pedir al usuario que ingrese la tercera resistencia en ohmios.\n",
        "5. Pedir al usuario que ingrese la cuarta resistencia en ohmios.\n",
        "6. Calcular la resistencia equivalente dividiendo a 1 sobre la suma de cada una de las resistencias que se encuentran sobre 1.\n",
        "7. Mostrar el resultado del paso 6.\n",
        "\n",
        "\n",
        "```\n",
        "Start\n",
        "  Declare float resistencia_1\n",
        "  Declare float resistencia_2\n",
        "  Declare float resistencia_3\n",
        "  Declare float resistencia_4\n",
        "  Declare float resistencia_eq\n",
        "\n",
        "  Display \"Ingresa el valor de la resistencia uno en ohmios\"\n",
        "  Input resistencia_1\n",
        "\n",
        "  Display \"Ingresa el valor de la resistencia dos en ohmios\"\n",
        "  Input resistencia_2\n",
        "\n",
        "  Display \"Ingresa el valor de la resistencia tres en ohmios\"\n",
        "  Input resistencia_3\n",
        "\n",
        "  Display \"Ingresa el valor de la resistencia cuatro en ohmios\"\n",
        "  Input resistencia_4\n",
        "\n",
        "  Set resistencia_eq = 1/( (1/resistencia_1) + (1/resistencia_2) + (1/resistencia_3) + (1/resistencia_4))\n",
        "\n",
        "  Display \"La resistencia equivalente es:\", resistencia_eq\n",
        "End\n",
        "```\n",
        "\n"
      ],
      "metadata": {
        "id": "Ag86nQHV6SCz"
      }
    },
    {
      "cell_type": "code",
      "source": [
        "resistencia_1 = float(input(\"Ingresa el valor de la resistencia uno en ohmios: \"))\n",
        "resistencia_2 = float(input(\"Ingresa el valor de la resistencia dos en ohmios: \"))\n",
        "resistencia_3 = float(input(\"Ingresa el valor de la resistencia tres en ohmios: \"))\n",
        "resistencia_4 = float(input(\"Ingresa el valor de la resistencia cuatro en ohmios: \"))\n",
        "resistencia_eq = 1/( (1/resistencia_1) + (1/resistencia_2) + (1/resistencia_3) + (1/resistencia_4))\n",
        "\n",
        "print(\"La resistencia equivalente es:\", resistencia_eq)\n"
      ],
      "metadata": {
        "colab": {
          "base_uri": "https://localhost:8080/"
        },
        "id": "Fkx7pXmZ7xKx",
        "outputId": "fe7bc125-18e0-46df-a4af-74fbb247ff91"
      },
      "execution_count": 12,
      "outputs": [
        {
          "output_type": "stream",
          "name": "stdout",
          "text": [
            "Ingresa el valor de la resistencia uno en ohmios: 4\n",
            "Ingresa el valor de la resistencia dos en ohmios: 50\n",
            "Ingresa el valor de la resistencia tres en ohmios: 100\n",
            "Ingresa el valor de la resistencia cuatro en ohmios: 150\n",
            "La resistencia equivalente es: 3.488372093023256\n"
          ]
        }
      ]
    },
    {
      "cell_type": "markdown",
      "source": [
        "#Segundo problema\n",
        "**Calcular potencia disipada**\n",
        "\n",
        "<br>**Tarea:** Calcular la potencia disipada en un circuito con una resistencia dada y una corriente especificada.\n",
        "<br>Descripción: Escribe un algoritmo que tome como entrada el valor de la resistencia (𝑅) en ohmios y el\n",
        "valor de la corriente (𝐼) en amperios, y calcule la potencia disipada en el circuito utilizando la ley de\n",
        "Joule **𝑃=𝐼2𝑅**.\n",
        "\n",
        "<br>**Resultado:** La potencia disipada en el circuito en vatios.\n",
        "<br>**Entradas:** El valor de la resistencia en ohmios y el valor de la corriente en amperios.\n",
        "<br>**Ejemplo:** Entrada: 50 (ohmios), 2 (amperios); **Salida esperada:** 200 (vatios).\n",
        "\n",
        "<br> **Algoritmo**\n",
        "1. Declarar las variables.\n",
        "2. Pedir al usuario que ingrese el valor de la resistencia en ohmios.\n",
        "3. Pedir al usuario que ingrese el valor de la corriente en amperios.\n",
        "4. Calcular la potencia disipada multiplicando la resistenic por la corriente al cuadrado.\n",
        "5. Mostrar el resultado del paso 4.\n",
        "```\n",
        "Start\n",
        "  Declare float resistencia\n",
        "  Declare float corriente\n",
        "  Declare float potencia_disipada\n",
        "\n",
        "  Display \"Ingrese el valor de la resistenia en ohmios\"\n",
        "  Input resistencia\n",
        "\n",
        "  Display \"Ingrese el valor de la corriente en amperios\"\n",
        "  Input corriente\n",
        "\n",
        "  Set potencia_disipada = resistencia * (corriente**2)\n",
        "\n",
        "  Display \"La potencia disipada son\", potencia_disipada, \"vatios\"\n",
        "End\n",
        "```"
      ],
      "metadata": {
        "id": "ee5W1-Wt8AT4"
      }
    },
    {
      "cell_type": "code",
      "source": [
        "resistencia = float(input(\"Ingrese el valor de la resistenia en ohmios: \"))\n",
        "corriente = float(input(\"Ingrese el valor de la corriente en amperios: \"))\n",
        "potencia_disipada = resistencia * (corriente ** 2)\n",
        "\n",
        "print(\"La potencia disipada son\", potencia_disipada, \"vatios\")"
      ],
      "metadata": {
        "colab": {
          "base_uri": "https://localhost:8080/"
        },
        "id": "0Tq-Cbdb8cwt",
        "outputId": "a01d5f7f-1df5-49b4-eca3-a06c8f6dc975"
      },
      "execution_count": 13,
      "outputs": [
        {
          "output_type": "stream",
          "name": "stdout",
          "text": [
            "Ingrese el valor de la resistenia en ohmios: 10\n",
            "Ingrese el valor de la corriente en amperios: 5\n",
            "La potencia disipada son 250.0 vatios\n"
          ]
        }
      ]
    },
    {
      "cell_type": "markdown",
      "source": [
        "#Tercer Problema\n",
        "**Corriente eléctrica en una resistencia**\n",
        "\n",
        "<br>**Tarea:** Calcular la corriente eléctrica en una resistencia.\n",
        "Descripción: Escribe un algoritmo que tome como entrada el valor de la tensión (𝑉) en voltios y el valor de la resistencia (𝑅) en ohmios, y calcule la corriente eléctrica (𝐼) que circula por a través de ella utilizando la ley de Ohm **𝑉=𝑅𝐼 **\n",
        "\n",
        "<br>**Resultado:** La corriente eléctrica en una resistencia.\n",
        "<br>**Entradas:** El valor de la tensión en voltios y el valor de la resistencia en ohmios.\n",
        "<br>**Ejemplo:** Entrada: 12 (voltios), 4 (ohmios); **Salida esperada:** 3 (amperios).\n",
        "\n",
        "<br> **Algoritmo**\n",
        "1. Declarar las variables.\n",
        "2. Pedir al usuario que ingrese el valor de la tensió en voltios.\n",
        "3. Pedir al usuario que ingrese el valor de la resistencia en ohmios.\n",
        "4. Calcular la corriente eléctrica dividiendo la tensión entre la resistencia.\n",
        "5. Mostrar el resultado del paso 4.\n",
        "```\n",
        "Start\n",
        "  Declare float tension\n",
        "  Declare float resistencia\n",
        "  Declare float corriente_electrica\n",
        "\n",
        "  Display \"Ingrese el valor de la tensión en voltios\"\n",
        "  Input tension\n",
        "\n",
        "  Display \"Ingrese el valor de la resistencia en ohmios\"\n",
        "  Input resistencia\n",
        "\n",
        "  Set corriente_electrica = tension / resistencia\n",
        "\n",
        "  Display \"La corriente eléctrica son\", corriente_electrica, \"amperios.\"\n",
        "End\n",
        "```"
      ],
      "metadata": {
        "id": "P3TkHe--8ml3"
      }
    },
    {
      "cell_type": "code",
      "source": [
        "tension = float(input(\"Ingrese el valor de la tensión en voltios: \"))\n",
        "resistencia = float(input(\"Ingrese el valor de la resistencia en ohmios: \"))\n",
        "corriente_electrica = tension / resistencia\n",
        "\n",
        "print(\"La corriente eléctrica son\", corriente_electrica, \"amperios.\")\n"
      ],
      "metadata": {
        "colab": {
          "base_uri": "https://localhost:8080/"
        },
        "id": "FA7PAAxL9HTO",
        "outputId": "21647318-ca86-4afb-e7f5-56958c97b5c7"
      },
      "execution_count": 14,
      "outputs": [
        {
          "output_type": "stream",
          "name": "stdout",
          "text": [
            "Ingrese el valor de la tensión en voltios: 50\n",
            "Ingrese el valor de la resistencia en ohmios: 10\n",
            "La corriente eléctrica son 5.0 amperios.\n"
          ]
        }
      ]
    },
    {
      "cell_type": "markdown",
      "source": [
        "#Cuarto ejercico\n",
        "**Constante de tiempo**\n",
        "\n",
        "<br> Tarea: Calcular la constante de tiempo en un circuito RC.\n",
        "Descripción: Desarrolla un algoritmo que tome como entrada el valor de la resistencia (𝑅) en ohmios y el valor de la capacitancia (𝐶), y calcule la constante de tiempo (𝜏) en un circuito RC utilizando la fórmula *t*=𝑅𝐶.\n",
        "\n",
        "<br>**Resultado:** La capacitancia del capacitor en faradios.\n",
        "<br>**Entradas:** El valor de la resistencia en ohmios y el valor del tiempo de carga en segundos.\n",
        "<br>**Ejemplo:** Entrada: 100 (ohmios), 0.0005 (faradios); **Salida esperada:** 0.05 (segundos).\n",
        "\n",
        "<br> **Algoritmo**\n",
        "1. Declarar las variables.\n",
        "2. Pedir al usuario que ingrese el valor de la resistencia en ohmios.\n",
        "3. Pedir al usuario que ingrese el valor de la capacitancia en faradio.\n",
        "4. Calcular la constante de tiempo multiplicando la resistencia por la capacitancia.\n",
        "5. Mostrar el resultado del paso 4.\n",
        "\n",
        "```\n",
        "Start\n",
        "  Declare float resistencia\n",
        "  Declare float capacitancia\n",
        "  Declare float constante_tiempo\n",
        "\n",
        "  Display \"Ingrese el valor de la resistencia en ohmios\"\n",
        "  Input resistencia\n",
        "\n",
        "  Display \"Ingrese el valor de la capacitancia en faradio\"\n",
        "  Input capacitancia\n",
        "\n",
        "  Set constante_tiempo = resistenncia * capacitancia\n",
        "\n",
        "  Display \"La constante de tiempo son\", constante_tiempo, \"segundos.\"\n",
        "End\n",
        "```"
      ],
      "metadata": {
        "id": "0ZcTr4DE9NGK"
      }
    },
    {
      "cell_type": "code",
      "source": [
        "resistencia = float(input(\"Ingrese el valor de la resistencia en ohmios: \"))\n",
        "capacitancia = float(input(\"Ingrese el valor de la capacitancia en faradio: \"))\n",
        "constante_tiempo = resistencia * capacitancia\n",
        "\n",
        "print(\"La constante de tiempo son\", constante_tiempo, \"segundos.\")"
      ],
      "metadata": {
        "colab": {
          "base_uri": "https://localhost:8080/"
        },
        "id": "41kMJBkk9S5a",
        "outputId": "2b00422c-40ef-4b86-c69f-008c3d444c74"
      },
      "execution_count": 17,
      "outputs": [
        {
          "output_type": "stream",
          "name": "stdout",
          "text": [
            "Ingrese el valor de la resistencia en ohmios: 40\n",
            "Ingrese el valor de la capacitancia en faradio: 0.005\n",
            "La constante de tiempo son 0.2 segundos.\n"
          ]
        }
      ]
    },
    {
      "cell_type": "markdown",
      "source": [
        "#Quinto problema\n",
        "**Consumo de energía**\n",
        "\n",
        "<br>Tarea: Calcular el consumo de energía en un periodo de tiempo a partir de las potencias promedios. Descripción: Desarrolla un algoritmo que tome como entrada un número de horas (𝑛) y 𝑛 valores de potencia promedio por hora en 𝑘𝑊ℎ para calcular la energía total consumida en el periodo indicado. Para este caso, la energía consumida cada hora tiene el mismo valor de la potencia promedio por hora, y la energía total es la sumatoria de estas.  \n",
        "\n",
        "<br>Resultado: La energía total consumida en el periodo indicado.\n",
        "<br>Entradas: La duración del periodo en horas y las potencias promedio por hora.\n",
        "<br>Ejemplo: Entrada: 4 (horas), 25, 25, 50, 100; Salida esperada: 200 (kWh).\n",
        "\n",
        "<br> **Algoritmo**\n",
        "1. Declarar las variables.\n",
        "2. Pedir al usuario que ingrese el periodo de tiempo que quiere saber el consumo en horas.\n",
        "3. Pedir al usuario que ingrese la potenica promedio en la primera hora.\n",
        "4. Pedir al usuario que ingrese la potenica promedio en la segunda hora.\n",
        "5. Pedir al usuario que ingrese la potenica promedio en la tercera hora.\n",
        "6. Pedir al usuario que ingrese la potenica promedio en la cuarta hora.\n",
        "7. Calcular el consumo de la energía en el periodo de tiempo pedido sumando todas las potencias promedio obtenidas.\n",
        "8. Mostrar el resultado del paso 7.\n",
        "```\n",
        "Start\n",
        "  Declare float periodo\n",
        "  Declare float potencia_1\n",
        "  Declare float potencia_2\n",
        "  Declare float potencia_3\n",
        "  Declare float potencia_4\n",
        "  Declare float consumo\n",
        "\n",
        "  Display \"Ingrese el periodo de tiempo en el que quiere saber el consumo en horas\"\n",
        "  Input periodo\n",
        "\n",
        "  Display \"Ingrese la potencia promedio en la primera hora\"\n",
        "  Input potencia_1\n",
        "\n",
        "  Display \"Ingrese la potencia promedio en la segunda hora\"\n",
        "  Input potencia_2\n",
        "\n",
        "  Display \"Ingrese la potencia promedio en la tercera hora\"\n",
        "  Input potencia_3\n",
        "\n",
        "  Display \"Ingrese la potencia promedio en la cuarta hora\"\n",
        "  Input potencia_4\n",
        "\n",
        "  Set consumo = potencia_1 + potencia_2 + potencia_3 + potencia_4\n",
        "\n",
        "  Display \"El consumo de energía en\", periodo, \"horas, fue de:\", consumo, \"kWh\"\n",
        "End\n",
        "```"
      ],
      "metadata": {
        "id": "PYaC3Zdj-2Sm"
      }
    },
    {
      "cell_type": "code",
      "source": [
        "periodo = float(input(\"Ingrese el periodo de tiempo en el que quiere saber el consumo en horas: \"))\n",
        "potencia_1 = float(input(\"Ingrese la potencia promedio en la primera hora: \"))\n",
        "potencia_2 = float(input(\"Ingrese la potencia promedio en la segunda hora: \"))\n",
        "potencia_3 = float(input(\"Ingrese la potencia promedio en la tercera hora: \"))\n",
        "potencia_4 = float(input(\"Ingrese la potencia promedio en la cuarta hora: \"))\n",
        "consumo = potencia_1 + potencia_2 + potencia_3 + potencia_4\n",
        "\n",
        "print(\"El consumo de energía en\", periodo, \"horas, fue de:\", consumo, \"kWh\")"
      ],
      "metadata": {
        "colab": {
          "base_uri": "https://localhost:8080/"
        },
        "id": "A_UhmMTF-8Cy",
        "outputId": "2133ef0b-ba9b-4d61-bca8-acb26d17fa63"
      },
      "execution_count": 21,
      "outputs": [
        {
          "output_type": "stream",
          "name": "stdout",
          "text": [
            "Ingrese el periodo de tiempo en el que quiere saber el consumo en horas: 10\n",
            "Ingrese la potencia promedio en la primera hora: 20\n",
            "Ingrese la potencia promedio en la segunda hora: 30\n",
            "Ingrese la potencia promedio en la tercera hora: 40\n",
            "Ingrese la potencia promedio en la cuarta hora: 50\n",
            "El consumo de energía en 10.0 horas, fue de: 140.0 kWh\n"
          ]
        }
      ]
    },
    {
      "cell_type": "markdown",
      "source": [],
      "metadata": {
        "id": "-k_nM5el_VxY"
      }
    }
  ]
}